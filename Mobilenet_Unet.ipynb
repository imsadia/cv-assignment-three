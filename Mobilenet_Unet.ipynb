{
 "cells": [
  {
   "cell_type": "code",
   "execution_count": 1,
   "id": "6e58977d",
   "metadata": {},
   "outputs": [
    {
     "name": "stderr",
     "output_type": "stream",
     "text": [
      "2022-05-22 20:57:55.635714: W tensorflow/stream_executor/platform/default/dso_loader.cc:64] Could not load dynamic library 'libcudart.so.11.0'; dlerror: libcudart.so.11.0: cannot open shared object file: No such file or directory\n",
      "2022-05-22 20:57:55.635740: I tensorflow/stream_executor/cuda/cudart_stub.cc:29] Ignore above cudart dlerror if you do not have a GPU set up on your machine.\n",
      "2022-05-22 20:57:58.859341: W tensorflow/stream_executor/platform/default/dso_loader.cc:64] Could not load dynamic library 'libcuda.so.1'; dlerror: libcuda.so.1: cannot open shared object file: No such file or directory; LD_LIBRARY_PATH: /home/sadia/Computer Vision/env/lib/python3.8/site-packages/cv2/../../lib64:\n",
      "2022-05-22 20:57:58.859369: W tensorflow/stream_executor/cuda/cuda_driver.cc:269] failed call to cuInit: UNKNOWN ERROR (303)\n",
      "2022-05-22 20:57:58.859386: I tensorflow/stream_executor/cuda/cuda_diagnostics.cc:156] kernel driver does not appear to be running on this host (sadia-HP-EliteBook-840-G4): /proc/driver/nvidia/version does not exist\n",
      "2022-05-22 20:57:58.859563: I tensorflow/core/platform/cpu_feature_guard.cc:151] This TensorFlow binary is optimized with oneAPI Deep Neural Network Library (oneDNN) to use the following CPU instructions in performance-critical operations:  AVX2 FMA\n",
      "To enable them in other operations, rebuild TensorFlow with the appropriate compiler flags.\n"
     ]
    },
    {
     "name": "stdout",
     "output_type": "stream",
     "text": [
      "Verifying training dataset\n"
     ]
    },
    {
     "name": "stderr",
     "output_type": "stream",
     "text": [
      "100%|████████████████████████████████████████| 367/367 [00:02<00:00, 132.71it/s]\n"
     ]
    },
    {
     "name": "stdout",
     "output_type": "stream",
     "text": [
      "Dataset verified! \n"
     ]
    },
    {
     "name": "stderr",
     "output_type": "stream",
     "text": [
      "2022-05-22 20:58:06.466648: W tensorflow/core/framework/cpu_allocator_impl.cc:82] Allocation of 437059584 exceeds 10% of free system memory.\n",
      "2022-05-22 20:58:06.466798: W tensorflow/core/framework/cpu_allocator_impl.cc:82] Allocation of 437059584 exceeds 10% of free system memory.\n"
     ]
    },
    {
     "name": "stdout",
     "output_type": "stream",
     "text": [
      "\r",
      "  1/512 [..............................] - ETA: 58:05 - loss: 3.2734 - accuracy: 0.0708"
     ]
    },
    {
     "name": "stderr",
     "output_type": "stream",
     "text": [
      "2022-05-22 20:58:10.731142: W tensorflow/core/framework/cpu_allocator_impl.cc:82] Allocation of 437059584 exceeds 10% of free system memory.\n",
      "2022-05-22 20:58:10.731645: W tensorflow/core/framework/cpu_allocator_impl.cc:82] Allocation of 437059584 exceeds 10% of free system memory.\n"
     ]
    },
    {
     "name": "stdout",
     "output_type": "stream",
     "text": [
      "\b\b\b\b\b\b\b\b\b\b\b\b\b\b\b\b\b\b\b\b\b\b\b\b\b\b\b\b\b\b\b\b\b\b\b\b\b\b\b\b\b\b\b\b\b\b\b\b\b\b\b\b\b\b\b\b\b\b\b\b\b\b\b\b\b\b\b\b\b\b\b\b\b\b\b\b\b\b\b\b\b\b\b\b\b\b\b\r",
      "  2/512 [..............................] - ETA: 37:55 - loss: 2.4253 - accuracy: 0.3259"
     ]
    },
    {
     "name": "stderr",
     "output_type": "stream",
     "text": [
      "2022-05-22 20:58:15.349179: W tensorflow/core/framework/cpu_allocator_impl.cc:82] Allocation of 437059584 exceeds 10% of free system memory.\n"
     ]
    },
    {
     "name": "stdout",
     "output_type": "stream",
     "text": [
      "512/512 [==============================] - ETA: 0s - loss: 0.4149 - accuracy: 0.8698\n",
      "Epoch 1: saving model to /tmp/mobilenet_unet_1.00001\n",
      "512/512 [==============================] - 2446s 5s/step - loss: 0.4149 - accuracy: 0.8698\n"
     ]
    },
    {
     "name": "stderr",
     "output_type": "stream",
     "text": [
      "101it [01:03,  1.60it/s]\n"
     ]
    },
    {
     "name": "stdout",
     "output_type": "stream",
     "text": [
      "{'frequency_weighted_IU': 0.8381675059430893, 'mean_IU': 0.605536806597325, 'class_wise_IU': array([0.93323571, 0.79178798, 0.01528303, 0.95959634, 0.8520233 ,\n",
      "       0.87157659, 0.42114839, 0.50904004, 0.78420583, 0.29382701,\n",
      "       0.63698832, 0.19772914])}\n"
     ]
    },
    {
     "data": {
      "image/png": "[encoded data removed]",
      "text/plain": [
       "<Figure size 432x288 with 1 Axes>"
      ]
     },
     "metadata": {
      "needs_background": "light"
     },
     "output_type": "display_data"
    }
   ],
   "source": [
    "from keras_segmentation.models.unet import mobilenet_unet\n",
    "import matplotlib.pyplot as plt\n",
    "\n",
    "# Loading mobilenet unet model\n",
    "model = mobilenet_unet(n_classes=12, input_height=416, input_width=608)\n",
    "\n",
    "# Training mobilenet unet model\n",
    "model.train(\n",
    "    train_images =  \"dataset/images_prepped_train/\",\n",
    "    train_annotations = \"dataset/annotations_prepped_train\",\n",
    "    checkpoints_path = \"/tmp/mobilenet_unet_1\" , epochs=1\n",
    ")\n",
    "\n",
    "# Predict the segmentation of single test image using trained mobilenet segnet\n",
    "out = model.predict_segmentation(\n",
    "    inp=\"dataset/images_prepped_test/0016E5_07965.png\",\n",
    "    out_fname=\"/tmp/out.png\"\n",
    ")\n",
    "\n",
    "# Show the predicted output\n",
    "plt.imshow(out)\n",
    "\n",
    "# Evaluate the mobilenet segnet segmentation model \n",
    "print(model.evaluate_segmentation(inp_images_dir=\"dataset/images_prepped_test/\", \n",
    "                                  annotations_dir=\"dataset/annotations_prepped_test/\"))"
   ]
  },
  {
   "cell_type": "code",
   "execution_count": null,
   "id": "8a4bd1d1",
   "metadata": {},
   "outputs": [],
   "source": []
  }
 ],
 "metadata": {
  "kernelspec": {
   "display_name": "Python 3 (ipykernel)",
   "language": "python",
   "name": "python3"
  },
  "language_info": {
   "codemirror_mode": {
    "name": "ipython",
    "version": 3
   },
   "file_extension": ".py",
   "mimetype": "text/x-python",
   "name": "python",
   "nbconvert_exporter": "python",
   "pygments_lexer": "ipython3",
   "version": "3.8.10"
  }
 },
 "nbformat": 4,
 "nbformat_minor": 5
}
